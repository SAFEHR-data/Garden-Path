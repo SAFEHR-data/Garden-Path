{
 "cells": [
  {
   "attachments": {},
   "cell_type": "markdown",
   "id": "f791d4cd-07a2-49fe-b787-ab46372f1737",
   "metadata": {},
   "source": [
    "## Demonstration query against EMAP\n",
    "\n",
    "Actually runs against `star_synth` courtesy of https://github.com/alan-turing-institute/sqlsynthgen"
   ]
  },
  {
   "cell_type": "markdown",
   "id": "c85af996-2088-42fe-8fe1-e0ba7f47829b",
   "metadata": {},
   "source": [
    "### Imports"
   ]
  },
  {
   "cell_type": "code",
   "execution_count": 1,
   "id": "c6dbc9b3-9363-4099-bf8e-9e8ad67c4789",
   "metadata": {
    "execution": {
     "iopub.execute_input": "2023-05-06T13:05:20.926475Z",
     "iopub.status.busy": "2023-05-06T13:05:20.926189Z",
     "iopub.status.idle": "2023-05-06T13:05:21.514408Z",
     "shell.execute_reply": "2023-05-06T13:05:21.513501Z",
     "shell.execute_reply.started": "2023-05-06T13:05:20.926444Z"
    },
    "tags": []
   },
   "outputs": [],
   "source": [
    "import os\n",
    "from pathlib import Path\n",
    "\n",
    "import pandas as pd\n",
    "\n",
    "from sqlalchemy import create_engine\n",
    "from sqlalchemy.engine import Engine\n",
    "from environs import Env"
   ]
  },
  {
   "cell_type": "markdown",
   "id": "003a2182-ff29-4001-8f56-14cbd02095a6",
   "metadata": {},
   "source": [
    "### Read in secrets etc. / Set up connection to EMAP"
   ]
  },
  {
   "cell_type": "code",
   "execution_count": 2,
   "id": "a28f871a-ee95-4633-94a0-325ad01f6098",
   "metadata": {
    "execution": {
     "iopub.execute_input": "2023-05-06T13:05:21.517637Z",
     "iopub.status.busy": "2023-05-06T13:05:21.517139Z",
     "iopub.status.idle": "2023-05-06T13:05:21.570421Z",
     "shell.execute_reply": "2023-05-06T13:05:21.569525Z",
     "shell.execute_reply.started": "2023-05-06T13:05:21.517606Z"
    },
    "tags": []
   },
   "outputs": [],
   "source": [
    "pd.set_option('display.max_columns', 1000, 'display.width', 1000, 'display.max_rows',1000)\n",
    "\n",
    "env_parser = Env()\n",
    "_project_root_dir = Path.cwd().resolve().parents[0].absolute()\n",
    "env_file = _project_root_dir / \".env\"\n",
    "env_parser.read_env(env_file.as_posix(), override=True, recurse=False)\n",
    "\n",
    "def emap_db() -> Engine:\n",
    "    url = \"postgresql+psycopg2://{}:{}@{}:{}/{}\".format(\n",
    "        os.getenv('EMAP_DB_USER'),\n",
    "        os.getenv('EMAP_DB_PASSWORD'),\n",
    "        os.getenv('EMAP_DB_HOST'),\n",
    "        os.getenv('EMAP_DB_PORT'),\n",
    "        os.getenv('EMAP_DB_NAME'),\n",
    "    )\n",
    "    engine = create_engine(\n",
    "        url, pool_size=4, max_overflow=6, connect_args={\"connect_timeout\": 120}\n",
    "    )\n",
    "    return engine\n",
    "\n",
    "emap_engine = emap_db()"
   ]
  },
  {
   "cell_type": "markdown",
   "id": "bfa46182-fd0f-4084-966c-bb27f1896a9b",
   "metadata": {},
   "source": [
    "### Demo SQL script (read core demographics)\n",
    "```sql\n",
    "SELECT \n",
    " mrn_id\n",
    ",date_of_birth ,date_of_death\n",
    ",ethnicity\n",
    ",firstname, lastname\n",
    ",sex\n",
    ",home_postcode\n",
    "FROM star_synth.core_demographic LIMIT 5 ;\n",
    "```"
   ]
  },
  {
   "cell_type": "markdown",
   "id": "e9b11dc3-0bcb-4e38-b929-c20391dd5636",
   "metadata": {},
   "source": [
    "### Go fetch the data"
   ]
  },
  {
   "cell_type": "code",
   "execution_count": 3,
   "id": "c8fa8454-fe02-4341-8ad4-8192ed74911d",
   "metadata": {
    "execution": {
     "iopub.execute_input": "2023-05-06T13:05:21.575974Z",
     "iopub.status.busy": "2023-05-06T13:05:21.575465Z",
     "iopub.status.idle": "2023-05-06T13:05:21.601936Z",
     "shell.execute_reply": "2023-05-06T13:05:21.600740Z",
     "shell.execute_reply.started": "2023-05-06T13:05:21.575943Z"
    },
    "tags": []
   },
   "outputs": [
    {
     "name": "stdout",
     "output_type": "stream",
     "text": [
      "   mrn_id date_of_birth date_of_death               ethnicity  firstname lastname sex home_postcode\n",
      "0    9243    1940-10-26    2015-05-28           White British     Parker   Castro   M      VV8W 0YK\n",
      "1    9244    1939-08-25          None  Other White Background    Delinda  Pittman   M      RY4Y 6TL\n",
      "2    9245    1953-07-05          None                    None    Voncile  Mathews   M      FM9G 3XM\n",
      "3    9246    1989-05-14          None  Other White Background      Detra     Gill   F      JZ3R 1BH\n",
      "4    9247    1950-02-08          None                    None  Nathaniel     Ford   F      BH8E 7LH\n"
     ]
    }
   ],
   "source": [
    "query = \"\"\"\n",
    "SELECT \n",
    " mrn_id, date_of_birth, date_of_death, ethnicity\n",
    ",firstname, lastname, sex, home_postcode\n",
    "FROM star_synth.core_demographic LIMIT 5;\n",
    "\"\"\"\n",
    "df = pd.read_sql_query(query, emap_engine)\n",
    "print(df)"
   ]
  }
 ],
 "metadata": {
  "kernelspec": {
   "display_name": "Python 3",
   "language": "python",
   "name": "python3"
  },
  "language_info": {
   "codemirror_mode": {
    "name": "ipython",
    "version": 3
   },
   "file_extension": ".py",
   "mimetype": "text/x-python",
   "name": "python",
   "nbconvert_exporter": "python",
   "pygments_lexer": "ipython3",
   "version": "3.9.5"
  }
 },
 "nbformat": 4,
 "nbformat_minor": 5
}
