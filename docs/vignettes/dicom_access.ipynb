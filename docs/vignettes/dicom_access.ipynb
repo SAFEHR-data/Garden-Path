{
 "cells": [
  {
   "cell_type": "raw",
   "id": "972fa1dd",
   "metadata": {},
   "source": [
    "---\n",
    "title: Accessing the DICOM service from the TRE\n",
    "author: Tom Young\n",
    "date: 2023-03-04\n",
    "categories: \n",
    "    - pixl\n",
    "    - tre\n",
    "format:\n",
    "    html:\n",
    "        code-fold: false\n",
    "---"
   ]
  },
  {
   "cell_type": "markdown",
   "id": "4e1efd09-d2f9-44b7-9a69-8ed2e5550e58",
   "metadata": {
    "tags": []
   },
   "source": [
    "# Accessing the DICOM service from the TRE"
   ]
  },
  {
   "attachments": {},
   "cell_type": "markdown",
   "id": "db26eda2",
   "metadata": {},
   "source": [
    "Note: DICOM data accessed through this service has been anonymised to some degree and will not mirror data from the original source. \n",
    "\n",
    "- PII has been removed\n",
    "- Dates have been moved"
   ]
  },
  {
   "cell_type": "code",
   "execution_count": null,
   "id": "40f82c2e-0ed2-412a-b275-053e07311ca0",
   "metadata": {},
   "outputs": [],
   "source": [
    "import requests\n",
    "import pydicom\n",
    "from pathlib import Path\n",
    "from urllib3.filepost import encode_multipart_formdata, choose_boundary\n",
    "from azure.identity import DefaultAzureCredential"
   ]
  },
  {
   "cell_type": "markdown",
   "id": "755d7059-c612-43a3-8360-a94025801ff0",
   "metadata": {},
   "source": [
    "### Set api URL and version"
   ]
  },
  {
   "cell_type": "code",
   "execution_count": null,
   "id": "a2b87432-4f2f-4ee9-8245-0f3fa69df6f3",
   "metadata": {},
   "outputs": [],
   "source": [
    "service_url=\"https://hdsflowehrdev-dicom-flowehr-dev.dicom.azurehealthcareapis.com\"\n",
    "version=\"v1\"\n",
    "base_url = f\"{service_url}/{version}\"\n",
    "print(service_url)"
   ]
  },
  {
   "cell_type": "markdown",
   "id": "6531d8e7-311a-41c5-b5e5-bb858a7d3557",
   "metadata": {},
   "source": [
    "### Authenticate to Azure"
   ]
  },
  {
   "attachments": {},
   "cell_type": "markdown",
   "id": "8c2c64df",
   "metadata": {},
   "source": [
    "*Enter the provided code in a browser **outside of the TRE VM***"
   ]
  },
  {
   "cell_type": "code",
   "execution_count": null,
   "id": "e424732e-ec29-4dd5-a0d6-5c9b1e01d7f9",
   "metadata": {},
   "outputs": [],
   "source": [
    "!az login --use-device-code"
   ]
  },
  {
   "attachments": {},
   "cell_type": "markdown",
   "id": "89a83af3",
   "metadata": {},
   "source": [
    "Ensure the correct subscription is set as the 'default' subscription. Please select the subscription name you would like to use for futher authentication against the DICOM service from the list of subscriptions returned by the previous cell.\n",
    "\n",
    "Replace `your-subscription-name` with the actual subscription name in the below cell and run the cell."
   ]
  },
  {
   "cell_type": "code",
   "execution_count": null,
   "id": "3cf1a807",
   "metadata": {},
   "outputs": [],
   "source": [
    "!az account set --subscription \"your-subscription-name\""
   ]
  },
  {
   "cell_type": "markdown",
   "id": "69c2fd27-2b2f-4326-92e6-6c09cbce9c6f",
   "metadata": {},
   "source": [
    "### Generate bearer token via DefaultAzureCredential"
   ]
  },
  {
   "cell_type": "code",
   "execution_count": null,
   "id": "8e2a56a3-7f0a-4ae8-8fac-ce07edcf3712",
   "metadata": {},
   "outputs": [],
   "source": [
    "from azure.identity import DefaultAzureCredential, AzureCliCredential\n",
    "credential = DefaultAzureCredential()\n",
    "token = credential.credentials[3].get_token('https://dicom.healthcareapis.azure.com')\n",
    "bearer_token = f'Bearer {token.token}'"
   ]
  },
  {
   "attachments": {},
   "cell_type": "markdown",
   "id": "e9c9426c",
   "metadata": {},
   "source": [
    "### Optional - Alternative token generation with AzureCliCredential\n",
    "Generates an equivalent token to the above cell, may be used if problems with `DefaultAzureCredential` are encountered."
   ]
  },
  {
   "cell_type": "code",
   "execution_count": null,
   "id": "31b4d1c4",
   "metadata": {},
   "outputs": [],
   "source": [
    "credential = AzureCliCredential()\n",
    "bearer_token = f\"Bearer {credential.get_token('https://dicom.healthcareapis.azure.com').token}\""
   ]
  },
  {
   "attachments": {},
   "cell_type": "markdown",
   "id": "b1d7ceba",
   "metadata": {},
   "source": [
    "## Create a requests session"
   ]
  },
  {
   "cell_type": "code",
   "execution_count": null,
   "id": "03fc13ae-7d5e-4eb6-8979-585dde89780d",
   "metadata": {},
   "outputs": [],
   "source": [
    "client = requests.session()"
   ]
  },
  {
   "cell_type": "markdown",
   "id": "f5fe11e1-07cb-4bdb-b401-06e8368d9527",
   "metadata": {},
   "source": [
    "## Verify authentication has performed correctly"
   ]
  },
  {
   "cell_type": "code",
   "execution_count": null,
   "id": "db436eb7-e997-4316-9e56-e1a0e974c606",
   "metadata": {},
   "outputs": [],
   "source": [
    "headers = {\"Authorization\":bearer_token}\n",
    "url= f'{base_url}/changefeed'\n",
    "\n",
    "response = client.get(url,headers=headers)\n",
    "if (response.status_code != 200):\n",
    "    print('Error! Likely not authenticated!')\n",
    "print(response.status_code)"
   ]
  },
  {
   "cell_type": "markdown",
   "id": "82351f46-777a-4f2a-acd8-cdeacbab4e77",
   "metadata": {},
   "source": [
    "## Querying the DICOM Service"
   ]
  },
  {
   "attachments": {},
   "cell_type": "markdown",
   "id": "d4132055-0a63-468a-b440-f92b71af772b",
   "metadata": {},
   "source": [
    "### Search for studies"
   ]
  },
  {
   "cell_type": "code",
   "execution_count": null,
   "id": "bef7aec6",
   "metadata": {},
   "outputs": [],
   "source": [
    "url = f\"{base_url}/studies\"\n",
    "headers = {'Accept':'application/dicom+json', \"Authorization\":bearer_token}\n",
    "response_query = client.get(url, headers=headers)\n",
    "print(f\"{response_query.status_code=}, {response_query.content=}\")"
   ]
  },
  {
   "cell_type": "markdown",
   "id": "84955ab3",
   "metadata": {},
   "source": [
    "Extract study IDs from response content - returned as bytes\n",
    "\n",
    "StudyInstanceUID corresponds to 0020000D - see the [DICOM documentation for details](https://dicom.nema.org/medical/dicom/current/output/html/part18.html)"
   ]
  },
  {
   "cell_type": "code",
   "execution_count": null,
   "id": "f0b72e98",
   "metadata": {},
   "outputs": [],
   "source": [
    "import json\n",
    "r = json.loads(response_query.content.decode())\n",
    "study_uids = [study[\"0020000D\"][\"Value\"][0] for study in r]"
   ]
  },
  {
   "attachments": {},
   "cell_type": "markdown",
   "id": "cdfb9f21",
   "metadata": {},
   "source": [
    "### Search by study UID"
   ]
  },
  {
   "cell_type": "code",
   "execution_count": null,
   "id": "00d4a210-7ed1-4b93-a083-eb3c2b94fb29",
   "metadata": {},
   "outputs": [],
   "source": [
    "study_uid = study_uids[0] # as an example, use the previous query\n",
    "url = f\"{base_url}/studies\"\n",
    "headers = {'Accept':'application/dicom+json', \"Authorization\":bearer_token}\n",
    "params = {'StudyInstanceUID':study_uid}\n",
    "response_query = client.get(url, headers=headers, params=params)\n",
    "print(f\"{response_query.status_code=}, {response_query.content=}\")"
   ]
  },
  {
   "attachments": {},
   "cell_type": "markdown",
   "id": "ce6d87c3-1704-41a7-a315-34a27f164595",
   "metadata": {},
   "source": [
    "Return series UIDs within a single study"
   ]
  },
  {
   "cell_type": "code",
   "execution_count": null,
   "id": "ac0eb732",
   "metadata": {},
   "outputs": [],
   "source": [
    "url = f'{base_url}/studies/{study_uids[0]}/series'\n",
    "headers = {'Accept':'application/dicom+json', \"Authorization\":bearer_token}\n",
    "response = client.get(url, headers=headers)\n",
    "print(f\"{response.status_code=}, {response.content=}\")"
   ]
  },
  {
   "attachments": {},
   "cell_type": "markdown",
   "id": "c8de8fa1",
   "metadata": {},
   "source": [
    "Search within study by series UID"
   ]
  },
  {
   "cell_type": "code",
   "execution_count": null,
   "id": "4554424d-6469-48a6-9a42-8233388060c4",
   "metadata": {},
   "outputs": [],
   "source": [
    "url = f'{base_url}/studies/{study_uid}/series'\n",
    "headers = {'Accept':'application/dicom+json', \"Authorization\":bearer_token}\n",
    "params = {'SeriesInstanceUID':series_uid}\n",
    "\n",
    "response = client.get(url, headers=headers, params=params) #, verify=False)\n",
    "print(f\"{response.status_code=}, {response.content=}\")"
   ]
  },
  {
   "attachments": {},
   "cell_type": "markdown",
   "id": "6ac853d7-a962-4cc8-a2f4-0cb8ad2877d8",
   "metadata": {},
   "source": [
    "Search all studies by series UID"
   ]
  },
  {
   "cell_type": "code",
   "execution_count": null,
   "id": "2b52ce47-de48-43fb-9070-3672ef0dadeb",
   "metadata": {},
   "outputs": [],
   "source": [
    "url = f'{base_url}/series'\n",
    "headers = {'Accept': 'application/dicom+json', \"Authorization\":bearer_token}\n",
    "params = {'SeriesInstanceUID': series_uid}\n",
    "response = client.get(url, headers=headers, params=params)\n",
    "print(f\"{response.status_code=}, {response.content=}\")\n"
   ]
  },
  {
   "cell_type": "markdown",
   "id": "8f10dc0f-aa10-4514-ba18-3c5428c644c5",
   "metadata": {},
   "source": [
    "## Retrieve all instances within a study"
   ]
  },
  {
   "cell_type": "markdown",
   "id": "d974f958",
   "metadata": {},
   "source": [
    "### For a single study UID"
   ]
  },
  {
   "cell_type": "code",
   "execution_count": null,
   "id": "eecd545e-84e8-49df-b024-72ec23a4924e",
   "metadata": {},
   "outputs": [],
   "source": [
    "url = f'{base_url}/studies/{study_uid}'\n",
    "headers = {'Accept':'multipart/related; type=\"application/dicom\"; transfer-syntax=*', \"Authorization\":bearer_token}\n",
    "\n",
    "response = client.get(url, headers=headers)"
   ]
  },
  {
   "attachments": {},
   "cell_type": "markdown",
   "id": "dc6f99c4-bbda-4510-96a3-e181428ebf12",
   "metadata": {},
   "source": [
    "Instances are retrieved as bytes - to return useful output, we'll loop through returned items and convert to files that can be read by pydicom"
   ]
  },
  {
   "cell_type": "code",
   "execution_count": null,
   "id": "d7a71a01-5feb-4222-b8a0-eaf3221fe7c6",
   "metadata": {},
   "outputs": [],
   "source": [
    "import requests_toolbelt as tb\n",
    "from io import BytesIO\n",
    "\n",
    "mpd = tb.MultipartDecoder.from_response(response)\n",
    "\n",
    "retrieved_dcm_files = []\n",
    "for part in mpd.parts:\n",
    "    # headers returned as binary\n",
    "    print(part.headers[b'content-type'])\n",
    "    \n",
    "    dcm = pydicom.dcmread(BytesIO(part.content))\n",
    "    print(dcm.PatientName)\n",
    "    print(dcm.SOPInstanceUID)\n",
    "    retrieved_dcm_files.append(dcm)"
   ]
  },
  {
   "cell_type": "code",
   "execution_count": null,
   "id": "3b3dd4e4",
   "metadata": {},
   "outputs": [],
   "source": [
    "print(retrieved_dcm_files[0].file_meta)"
   ]
  },
  {
   "cell_type": "markdown",
   "id": "5bbf1fbd",
   "metadata": {},
   "source": [
    "### For multiple study UIDs"
   ]
  },
  {
   "cell_type": "code",
   "execution_count": null,
   "id": "fd7baf3f",
   "metadata": {},
   "outputs": [],
   "source": [
    "response_array = []\n",
    "for study_uid in study_uids:\n",
    "    url = f'{base_url}/studies/{study_uid}'\n",
    "    headers = {'Accept':'multipart/related; type=\"application/dicom\"; transfer-syntax=*', \"Authorization\":bearer_token}\n",
    "    response = client.get(url, headers=headers)\n",
    "    response_array.append(response)"
   ]
  },
  {
   "cell_type": "markdown",
   "id": "71eed843",
   "metadata": {},
   "source": [
    "Parse returned items and output a list of lists, with a list of instances per study"
   ]
  },
  {
   "cell_type": "code",
   "execution_count": null,
   "id": "fc315dbc",
   "metadata": {},
   "outputs": [],
   "source": [
    "import requests_toolbelt as tb\n",
    "from io import BytesIO\n",
    "\n",
    "retrieved_dcm_files_multistudy = []\n",
    "for r in response_array:\n",
    "    mpd = tb.MultipartDecoder.from_response(r)\n",
    "\n",
    "    retrieved_study_dcm_files = []\n",
    "    for part in mpd.parts:\n",
    "        dcm = pydicom.dcmread(BytesIO(part.content))\n",
    "        retrieved_study_dcm_files.append(dcm)\n",
    "    retrieved_dcm_files_multistudy.append(retrieved_study_dcm_files)"
   ]
  },
  {
   "cell_type": "code",
   "execution_count": null,
   "id": "94de513d",
   "metadata": {},
   "outputs": [],
   "source": [
    "print(retrieved_dcm_files_multistudy[0][0].file_meta)"
   ]
  },
  {
   "attachments": {},
   "cell_type": "markdown",
   "id": "2515a717",
   "metadata": {},
   "source": [
    "## View an image with matplotlib"
   ]
  },
  {
   "cell_type": "markdown",
   "id": "e1591891-38b3-4618-871f-744797db2cf4",
   "metadata": {
    "tags": []
   },
   "source": [
    "Instance images can be viewed by plotting the pixel array with matplotlib (or a similar library)"
   ]
  },
  {
   "cell_type": "code",
   "execution_count": null,
   "id": "9cb3cab2-d074-4b0d-9435-133bb0998d44",
   "metadata": {},
   "outputs": [],
   "source": [
    "import matplotlib.pyplot as plt\n",
    "plt.imshow(retrieved_dcm_files[0].pixel_array, cmap=plt.cm.bone)"
   ]
  },
  {
   "attachments": {},
   "cell_type": "markdown",
   "id": "5b1376e1",
   "metadata": {},
   "source": [
    "## Retrieve a single instance within a study"
   ]
  },
  {
   "cell_type": "code",
   "execution_count": null,
   "id": "c355edd9",
   "metadata": {},
   "outputs": [],
   "source": [
    "url = f'{base_url}/studies/{study_uid}/series/{series_uid}/instances/{instance_uid}'\n",
    "headers = {'Accept':'application/dicom; transfer-syntax=*', \"Authorization\":bearer_token}\n",
    "\n",
    "response = client.get(url, headers=headers)"
   ]
  },
  {
   "attachments": {},
   "cell_type": "markdown",
   "id": "51a6b39e",
   "metadata": {},
   "source": [
    "Again, the single instance is returned as bytes, which we can pass to pydicom with"
   ]
  },
  {
   "cell_type": "code",
   "execution_count": null,
   "id": "7eacb2c9",
   "metadata": {},
   "outputs": [],
   "source": [
    "dicom_file = pydicom.dcmread(BytesIO(response.content))\n",
    "print(dicom_file.PatientName)\n",
    "print(dicom_file.SOPInstanceUID)\n",
    "print(dicom_file.file_meta)"
   ]
  },
  {
   "cell_type": "code",
   "execution_count": null,
   "id": "9630d620",
   "metadata": {},
   "outputs": [],
   "source": [
    "plt.imshow(dicom_file.pixel_array, cmap=plt.cm.bone)"
   ]
  }
 ],
 "metadata": {
  "kernelspec": {
   "display_name": "base",
   "language": "python",
   "name": "python3"
  },
  "language_info": {
   "codemirror_mode": {
    "name": "ipython",
    "version": 3
   },
   "file_extension": ".py",
   "mimetype": "text/x-python",
   "name": "python",
   "nbconvert_exporter": "python",
   "pygments_lexer": "ipython3",
   "version": "3.9.13"
  },
  "vscode": {
   "interpreter": {
    "hash": "c6e4e9f98eb68ad3b7c296f83d20e6de614cb42e90992a65aa266555a3137d0d"
   }
  }
 },
 "nbformat": 4,
 "nbformat_minor": 5
}
