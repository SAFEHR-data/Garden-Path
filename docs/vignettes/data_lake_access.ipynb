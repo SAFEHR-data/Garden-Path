{
 "cells": [
  {
   "cell_type": "raw",
   "id": "f808d93b",
   "metadata": {},
   "source": [
    "---\n",
    "title: Accessing the EHR data from the TRE\n",
    "author: Tom Young\n",
    "date: 2023-03-04\n",
    "categories: \n",
    "    - pixl\n",
    "    - tre\n",
    "format:\n",
    "    html:\n",
    "        code-fold: false\n",
    "---"
   ]
  },
  {
   "attachments": {},
   "cell_type": "markdown",
   "id": "4934ae3d-ce2e-420f-bcf8-be349495d589",
   "metadata": {},
   "source": [
    "# Accessing EHR data from the TRE"
   ]
  },
  {
   "cell_type": "markdown",
   "id": "89a13ee2-589d-4876-a205-f87c2541dba7",
   "metadata": {},
   "source": [
    "This notebook describes the process of accessing EHR data stored within a TRE-accessible Azure Data Lake Storage Gen2 (ADLS) instance."
   ]
  },
  {
   "attachments": {},
   "cell_type": "markdown",
   "id": "2be8fa20",
   "metadata": {},
   "source": [
    "Note that PII has been masked from reports stored in the TRE and as a consequence structural changes may have appeared with respect to the original data.\n",
    "\n",
    "Features intended for use as inputs to machine learning models should not include or be derived from structural information from reports (e.g. line breaks, sentence length) stored in the storage instance detailed below."
   ]
  },
  {
   "cell_type": "markdown",
   "id": "cf56abd6-64c9-4a45-b2b1-78fe6b473188",
   "metadata": {},
   "source": [
    "### Authenticate with Azure\n",
    "\n",
    "Open the link shown in a browser outside of the TRE, enter the code and log in with your user account"
   ]
  },
  {
   "cell_type": "code",
   "execution_count": null,
   "id": "648b35da-db3a-43bf-84b8-5f43ebb14c18",
   "metadata": {
    "tags": []
   },
   "outputs": [],
   "source": [
    "!az login --use-device-code"
   ]
  },
  {
   "cell_type": "markdown",
   "id": "e6259e19-8f0d-4b54-89f3-03d7f83c30ca",
   "metadata": {},
   "source": [
    "### Set some key variables - the storage account name, input data filesystem name and the directory containing files"
   ]
  },
  {
   "cell_type": "code",
   "execution_count": null,
   "id": "069ffce8-55ce-4998-83b9-da69dcb77ec8",
   "metadata": {},
   "outputs": [],
   "source": [
    "storage_account_name = \"stpixldflowehrprod\"\n",
    "input_data_fs_name=\"data-lake-storage-pixld-flowehr-prod\"\n",
    "data_directory_path=\"/\"\n"
   ]
  },
  {
   "cell_type": "markdown",
   "id": "1ba9cd42-1efa-404e-9ff7-b1074e93bb42",
   "metadata": {},
   "source": [
    "Import dependencies and define functions to query data"
   ]
  },
  {
   "cell_type": "code",
   "execution_count": null,
   "id": "520ff0f9-9d2c-4670-aafd-6733a530e2a0",
   "metadata": {},
   "outputs": [],
   "source": [
    "#Function definitions inspired by MS docs\n",
    "#at https://learn.microsoft.com/en-us/azure/storage/blobs/data-lake-storage-directory-file-acl-python\n",
    "import os, uuid, sys\n",
    "from azure.storage.filedatalake import DataLakeServiceClient\n",
    "from azure.core._match_conditions import MatchConditions\n",
    "from azure.storage.filedatalake._models import ContentSettings\n",
    "from azure.identity import DefaultAzureCredential, AzureCliCredential\n",
    "\n",
    "class StorageClient:\n",
    "    def __init__(self, storage_account_name):\n",
    "        self.storage_account_name = storage_account_name\n",
    "        self.service_client = self.initialize_storage_account_ad()\n",
    "\n",
    "    def initialize_storage_account_ad(self):\n",
    "        try:          \n",
    "            credential = AzureCliCredential()\n",
    "            service_client = DataLakeServiceClient(account_url=f\"https://{self.storage_account_name}.dfs.core.windows.net\", credential=credential)\n",
    "\n",
    "            return service_client\n",
    "        except Exception as e:\n",
    "            print(e)\n",
    "            return\n",
    "\n",
    "    def download_file_from_directory(self, file_syst, directory, file_name):\n",
    "        try:\n",
    "            file_system_client = self.service_client.get_file_system_client(file_system=file_syst)\n",
    "            directory_client = file_system_client.get_directory_client(directory)\n",
    "            if not os.path.exists(\"downloaded_data\"):\n",
    "                os.makedirs(\"downloaded_data\")\n",
    "            print\n",
    "            local_file = open(f\"downloaded_data/{file_name}\",'wb')\n",
    "            file_client = directory_client.get_file_client(file_name)\n",
    "            download = file_client.download_file()\n",
    "            downloaded_bytes = download.readall()\n",
    "            local_file.write(downloaded_bytes)\n",
    "            local_file.close()\n",
    "            return\n",
    "        except Exception as e:\n",
    "            print(e)\n",
    "            return\n",
    "                          \n",
    "    def list_directory_contents(self, file_syst, directory):\n",
    "        try:\n",
    "            file_system_client = self.service_client.get_file_system_client(file_system=file_syst)\n",
    "\n",
    "            paths = file_system_client.get_paths(path=directory)\n",
    "\n",
    "            path_list = []\n",
    "            for path in paths:\n",
    "                path_list.append(path.name)\n",
    "            return path_list\n",
    "\n",
    "        except Exception as e:\n",
    "            print(e)\n",
    "            return\n",
    "                             \n",
    "    def create_directory(self, file_syst, directory):\n",
    "        try:\n",
    "            file_system_client = self.service_client.get_file_system_client(file_system=file_syst)\n",
    "            file_system_client.create_directory(directory)\n",
    "            return\n",
    "        except Exception as e:\n",
    "            print(e)\n",
    "            return\n",
    "    def upload_file_to_directory(self, file_syst, directory, uploaded_file_name, file_to_upload):\n",
    "        try:\n",
    "            file_system_client = self.service_client.get_file_system_client(file_system=file_syst)\n",
    "            directory_client = file_system_client.get_directory_client(directory)\n",
    "            file_client = directory_client.create_file(uploaded_file_name)\n",
    "            with open(file_to_upload, 'r') as local_file:\n",
    "                file_contents = local_file.read()\n",
    "                file_client.append_data(data=file_contents, offset=0, length=len(file_contents))\n",
    "                file_client.flush_data(len(file_contents))\n",
    "            return\n",
    "        except Exception as e:\n",
    "            print(e)\n",
    "            return\n"
   ]
  },
  {
   "cell_type": "markdown",
   "id": "4be084e3",
   "metadata": {},
   "source": [
    "### Create an instance of our StorageClient object"
   ]
  },
  {
   "cell_type": "code",
   "execution_count": null,
   "id": "855e87d8-e68a-491c-bc34-78ae5d38e8c7",
   "metadata": {},
   "outputs": [],
   "source": [
    "client = StorageClient(storage_account_name)"
   ]
  },
  {
   "cell_type": "markdown",
   "id": "694367b9-9ffd-4b0f-b782-73f60353a823",
   "metadata": {},
   "source": [
    "### List the contents of the specified directory within the ADLS file system"
   ]
  },
  {
   "cell_type": "code",
   "execution_count": null,
   "id": "d3efc0c3-36ae-43af-b6c7-c3f9685c9bd2",
   "metadata": {},
   "outputs": [],
   "source": [
    "available_files = client.list_directory_contents(input_data_fs_name, data_directory_path)\n",
    "print(available_files)"
   ]
  },
  {
   "cell_type": "markdown",
   "id": "19022a5d-4b48-469d-a851-00cc83f6f7a2",
   "metadata": {},
   "source": [
    "### Download all files from a directory"
   ]
  },
  {
   "cell_type": "code",
   "execution_count": null,
   "id": "8ec51713-ee5e-4ead-a18c-87ae589dd7b9",
   "metadata": {},
   "outputs": [],
   "source": [
    "[client.download_file_from_directory(input_data_fs_name, data_directory_path, datafile.rsplit(\"/\",1)[-1]) for datafile in available_files]"
   ]
  },
  {
   "cell_type": "markdown",
   "id": "2affc0ad-a7ea-4170-87bc-8e44fd7cd714",
   "metadata": {},
   "source": [
    "### Download individual files from a directory"
   ]
  },
  {
   "cell_type": "code",
   "execution_count": null,
   "id": "74bde13f-6172-4078-ad93-d9afddedb8e3",
   "metadata": {},
   "outputs": [],
   "source": [
    "client.download_file_from_directory(input_data_fs_name, data_directory_path, available_files[0].rsplit(\"/\", 1)[-1])"
   ]
  },
  {
   "cell_type": "markdown",
   "id": "bcd31a91-527a-48ac-a88e-928f14042c97",
   "metadata": {},
   "source": [
    "## Reading downloaded files with pandas"
   ]
  },
  {
   "cell_type": "code",
   "execution_count": null,
   "id": "e51f3ec6",
   "metadata": {},
   "outputs": [],
   "source": [
    "import re\n",
    "import pandas as pd\n",
    "parquet = []\n",
    "csv = []\n",
    "for x in available_files:\n",
    "    parquet_re = re.match(\"^.*\\.parquet\", x)\n",
    "    csv_re = re.match(\"^.*\\.csv\", x)\n",
    "    if parquet_re is not None:\n",
    "        parquet.append(parquet_re.group(0))\n",
    "    if csv_re is not None:\n",
    "        csv.append(csv_re.group(0))"
   ]
  },
  {
   "cell_type": "markdown",
   "id": "2ae72bc9",
   "metadata": {},
   "source": [
    "### Parquet"
   ]
  },
  {
   "cell_type": "code",
   "execution_count": null,
   "id": "a7a97680-4f22-4986-843b-15dcd802ed46",
   "metadata": {},
   "outputs": [],
   "source": [
    "local_df = pd.read_parquet(f\"downloaded_data/{parquet[0].rsplit('/',1)[-1]}\")\n",
    "local_df.head()"
   ]
  },
  {
   "cell_type": "markdown",
   "id": "54212684",
   "metadata": {},
   "source": [
    "### CSV"
   ]
  },
  {
   "cell_type": "code",
   "execution_count": null,
   "id": "e8f166da",
   "metadata": {},
   "outputs": [],
   "source": [
    "local_df = pd.read_csv(f\"downloaded_data/{csv[0].rsplit('/',1)[-1]}\")\n",
    "local_df.head()"
   ]
  }
 ],
 "metadata": {
  "kernelspec": {
   "display_name": "base",
   "language": "python",
   "name": "python3"
  },
  "language_info": {
   "codemirror_mode": {
    "name": "ipython",
    "version": 3
   },
   "file_extension": ".py",
   "mimetype": "text/x-python",
   "name": "python",
   "nbconvert_exporter": "python",
   "pygments_lexer": "ipython3",
   "version": "3.9.13"
  },
  "vscode": {
   "interpreter": {
    "hash": "c6e4e9f98eb68ad3b7c296f83d20e6de614cb42e90992a65aa266555a3137d0d"
   }
  }
 },
 "nbformat": 4,
 "nbformat_minor": 5
}
