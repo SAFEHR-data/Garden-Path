{
 "cells": [
  {
   "cell_type": "markdown",
   "id": "4e1efd09-d2f9-44b7-9a69-8ed2e5550e58",
   "metadata": {
    "tags": []
   },
   "source": [
    "# Accessing the DICOM service from the TRE"
   ]
  },
  {
   "attachments": {},
   "cell_type": "markdown",
   "id": "db26eda2",
   "metadata": {},
   "source": [
    "Note: DICOM data accessed through this service has been anonymised to some degree and will not mirror data from the original source. \n",
    "\n",
    "- PII has been removed\n",
    "- Dates have been moved"
   ]
  },
  {
   "cell_type": "code",
   "execution_count": null,
   "id": "40f82c2e-0ed2-412a-b275-053e07311ca0",
   "metadata": {},
   "outputs": [],
   "source": [
    "import requests\n",
    "import pydicom\n",
    "from pathlib import Path\n",
    "from urllib3.filepost import encode_multipart_formdata, choose_boundary\n",
    "from azure.identity import DefaultAzureCredential"
   ]
  },
  {
   "cell_type": "markdown",
   "id": "755d7059-c612-43a3-8360-a94025801ff0",
   "metadata": {},
   "source": [
    "### Set api URL and version"
   ]
  },
  {
   "cell_type": "code",
   "execution_count": null,
   "id": "a2b87432-4f2f-4ee9-8245-0f3fa69df6f3",
   "metadata": {},
   "outputs": [],
   "source": [
    "service_url=\"https://hdsflowehrdev-dicom-flowehr-dev.dicom.azurehealthcareapis.com\"\n",
    "version=\"v1\"\n",
    "base_url = f\"{service_url}/{version}\"\n",
    "print(service_url)"
   ]
  },
  {
   "cell_type": "markdown",
   "id": "6531d8e7-311a-41c5-b5e5-bb858a7d3557",
   "metadata": {},
   "source": [
    "### Authenticate to Azure"
   ]
  },
  {
   "attachments": {},
   "cell_type": "markdown",
   "id": "8c2c64df",
   "metadata": {},
   "source": [
    "*Enter the provided code in a browser **outside of the TRE VM***"
   ]
  },
  {
   "cell_type": "code",
   "execution_count": null,
   "id": "e424732e-ec29-4dd5-a0d6-5c9b1e01d7f9",
   "metadata": {},
   "outputs": [],
   "source": [
    "!az login --use-device-code"
   ]
  },
  {
   "attachments": {},
   "cell_type": "markdown",
   "id": "89a83af3",
   "metadata": {},
   "source": [
    "Ensure the correct subscription is set as the 'default' subscription. Please select the subscription name you would like to use for futher authentication against the DICOM service from the list of subscriptions returned by the previous cell.\n",
    "\n",
    "Replace `your-subscription-name` with the actual subscription name in the below cell and run the cell."
   ]
  },
  {
   "cell_type": "code",
   "execution_count": null,
   "id": "3cf1a807",
   "metadata": {},
   "outputs": [],
   "source": [
    "!az account set --subscription \"your-subscription-name\""
   ]
  },
  {
   "cell_type": "markdown",
   "id": "69c2fd27-2b2f-4326-92e6-6c09cbce9c6f",
   "metadata": {},
   "source": [
    "### Generate bearer token via DefaultAzureCredential"
   ]
  },
  {
   "cell_type": "code",
   "execution_count": null,
   "id": "8e2a56a3-7f0a-4ae8-8fac-ce07edcf3712",
   "metadata": {},
   "outputs": [],
   "source": [
    "from azure.identity import DefaultAzureCredential, AzureCliCredential\n",
    "credential = DefaultAzureCredential()\n",
    "token = credential.credentials[3].get_token('https://dicom.healthcareapis.azure.com')\n",
    "bearer_token = f'Bearer {token.token}'"
   ]
  },
  {
   "attachments": {},
   "cell_type": "markdown",
   "id": "e9c9426c",
   "metadata": {},
   "source": [
    "### Optional - Alternative token generation with AzureCliCredential\n",
    "Generates an equivalent token to the above cell, may be used if problems with `DefaultAzureCredential` are encountered."
   ]
  },
  {
   "cell_type": "code",
   "execution_count": null,
   "id": "31b4d1c4",
   "metadata": {},
   "outputs": [],
   "source": [
    "credential = AzureCliCredential()\n",
    "bearer_token = f\"Bearer {credential.get_token('https://dicom.healthcareapis.azure.com').token}\""
   ]
  },
  {
   "cell_type": "markdown",
   "id": "ff8b0469-1a7f-4504-b11b-c2c5f3f143c1",
   "metadata": {},
   "source": [
    "## Create supporting methods to support multipart\\related\n",
    "\n",
    "- Requests libraries don't directly support DICOMweb\n",
    "- we add some function definitions here to support working with DICOM files\n",
    "\n",
    "From Azure DICOM docs:\n",
    "> encode_multipart_related takes a set of fields (in the DICOM case, these libraries are generally Part 10 dam files) and an optional user-defined boundary. It returns both the full body, along with the content_type, which it can be used."
   ]
  },
  {
   "cell_type": "code",
   "execution_count": null,
   "id": "81c4ffe3-351a-45ce-9cb4-7eb5b89e2ac2",
   "metadata": {},
   "outputs": [],
   "source": [
    "def encode_multipart_related(fields, boundary=None):\n",
    "    if boundary is None:\n",
    "        boundary = choose_boundary()\n",
    "\n",
    "    body, _ = encode_multipart_formdata(fields, boundary)\n",
    "    content_type = str('multipart/related; boundary=%s' % boundary)\n",
    "\n",
    "    return body, content_type"
   ]
  },
  {
   "cell_type": "code",
   "execution_count": null,
   "id": "03fc13ae-7d5e-4eb6-8979-585dde89780d",
   "metadata": {},
   "outputs": [],
   "source": [
    "# Create a requests session\n",
    "client = requests.session()"
   ]
  },
  {
   "cell_type": "markdown",
   "id": "f5fe11e1-07cb-4bdb-b401-06e8368d9527",
   "metadata": {},
   "source": [
    "## Verify authentication has performed correctly"
   ]
  },
  {
   "cell_type": "code",
   "execution_count": null,
   "id": "db436eb7-e997-4316-9e56-e1a0e974c606",
   "metadata": {},
   "outputs": [],
   "source": [
    "headers = {\"Authorization\":bearer_token}\n",
    "url= f'{base_url}/changefeed'\n",
    "\n",
    "response = client.get(url,headers=headers)\n",
    "if (response.status_code != 200):\n",
    "    print('Error! Likely not authenticated!')\n",
    "print(response.status_code)"
   ]
  },
  {
   "attachments": {},
   "cell_type": "markdown",
   "id": "e3c5f858-eb86-47a8-a26f-4c62fad1e612",
   "metadata": {},
   "source": [
    "## Loading example DICOM data via pydicom"
   ]
  },
  {
   "attachments": {},
   "cell_type": "markdown",
   "id": "57bca447",
   "metadata": {},
   "source": [
    "Data from pydicom has been stored in the TRE-accessible DICOM service.\n",
    "\n",
    "We'll load that locally and investigate the data now before retrieving it from the DICOM service to compare the result."
   ]
  },
  {
   "cell_type": "code",
   "execution_count": null,
   "id": "1e14fca8-c098-434d-a8b3-40d0234f0c16",
   "metadata": {},
   "outputs": [],
   "source": [
    "from pydicom.data import get_testdata_file\n",
    "from pydicom import dcmread\n",
    "import matplotlib.pyplot as plt\n",
    "filename_ct = get_testdata_file('CT_small.dcm')"
   ]
  },
  {
   "cell_type": "code",
   "execution_count": null,
   "id": "b19a4c7a-228f-4bd7-b9cd-904a93921173",
   "metadata": {
    "tags": []
   },
   "outputs": [],
   "source": [
    "ds = dcmread(filename_ct)\n",
    "print(ds.file_meta)"
   ]
  },
  {
   "cell_type": "code",
   "execution_count": null,
   "id": "c58d17f2-0952-45c4-a67b-cfaf802ae5cd",
   "metadata": {},
   "outputs": [],
   "source": [
    "plt.imshow(ds.pixel_array, cmap=plt.cm.bone)"
   ]
  },
  {
   "cell_type": "markdown",
   "id": "2bddc3bd-83fe-43f5-aed5-90c15f08b150",
   "metadata": {},
   "source": [
    "### Retrieve relevant UIDs from original example dicom file"
   ]
  },
  {
   "cell_type": "code",
   "execution_count": null,
   "id": "ec5ab98c-ee43-4af5-86d8-b3bcf45334de",
   "metadata": {},
   "outputs": [],
   "source": [
    "study_uid = ds.StudyInstanceUID\n",
    "series_uid = ds.SeriesInstanceUID\n",
    "instance_uid = ds.SOPInstanceUID"
   ]
  },
  {
   "cell_type": "markdown",
   "id": "82351f46-777a-4f2a-acd8-cdeacbab4e77",
   "metadata": {},
   "source": [
    "## Querying the DICOM Service"
   ]
  },
  {
   "cell_type": "markdown",
   "id": "d4132055-0a63-468a-b440-f92b71af772b",
   "metadata": {},
   "source": [
    "- Search for studies"
   ]
  },
  {
   "cell_type": "code",
   "execution_count": null,
   "id": "00d4a210-7ed1-4b93-a083-eb3c2b94fb29",
   "metadata": {},
   "outputs": [],
   "source": [
    "url = f\"{base_url}/studies\"\n",
    "headers = {'Accept':'application/dicom+json', \"Authorization\":bearer_token}\n",
    "params = {'StudyInstanceUID':study_uid}\n",
    "response_query = client.get(url, headers=headers, params=params)\n",
    "print(f\"{response_query.status_code=}, {response_query.content=}\")"
   ]
  },
  {
   "cell_type": "markdown",
   "id": "ce6d87c3-1704-41a7-a315-34a27f164595",
   "metadata": {},
   "source": [
    "- Search for series within a study"
   ]
  },
  {
   "cell_type": "code",
   "execution_count": null,
   "id": "4554424d-6469-48a6-9a42-8233388060c4",
   "metadata": {},
   "outputs": [],
   "source": [
    "url = f'{base_url}/studies/{study_uid}/series'\n",
    "headers = {'Accept':'application/dicom+json', \"Authorization\":bearer_token}\n",
    "params = {'SeriesInstanceUID':series_uid}\n",
    "\n",
    "response = client.get(url, headers=headers, params=params) #, verify=False)\n",
    "print(f\"{response.status_code=}, {response.content=}\")"
   ]
  },
  {
   "cell_type": "markdown",
   "id": "6ac853d7-a962-4cc8-a2f4-0cb8ad2877d8",
   "metadata": {},
   "source": [
    "- Search by series"
   ]
  },
  {
   "cell_type": "code",
   "execution_count": null,
   "id": "2b52ce47-de48-43fb-9070-3672ef0dadeb",
   "metadata": {},
   "outputs": [],
   "source": [
    "url = f'{base_url}/series'\n",
    "headers = {'Accept': 'application/dicom+json', \"Authorization\":bearer_token}\n",
    "params = {'SeriesInstanceUID': series_uid}\n",
    "response = client.get(url, headers=headers, params=params)\n",
    "print(f\"{response.status_code=}, {response.content=}\")\n"
   ]
  },
  {
   "cell_type": "markdown",
   "id": "8f10dc0f-aa10-4514-ba18-3c5428c644c5",
   "metadata": {},
   "source": [
    "## Retrieve all instances within a study"
   ]
  },
  {
   "cell_type": "code",
   "execution_count": null,
   "id": "eecd545e-84e8-49df-b024-72ec23a4924e",
   "metadata": {},
   "outputs": [],
   "source": [
    "url = f'{base_url}/studies/{study_uid}'\n",
    "headers = {'Accept':'multipart/related; type=\"application/dicom\"; transfer-syntax=*', \"Authorization\":bearer_token}\n",
    "\n",
    "response = client.get(url, headers=headers) #, verify=False)"
   ]
  },
  {
   "attachments": {},
   "cell_type": "markdown",
   "id": "dc6f99c4-bbda-4510-96a3-e181428ebf12",
   "metadata": {},
   "source": [
    "Instances are retrieved as bytes - to return useful output, we'll loop through returned items and convert to files that can be read by pydicom"
   ]
  },
  {
   "cell_type": "code",
   "execution_count": null,
   "id": "d7a71a01-5feb-4222-b8a0-eaf3221fe7c6",
   "metadata": {},
   "outputs": [],
   "source": [
    "import requests_toolbelt as tb\n",
    "from io import BytesIO\n",
    "\n",
    "mpd = tb.MultipartDecoder.from_response(response)\n",
    "\n",
    "retrieved_dcm_files = []\n",
    "for part in mpd.parts:\n",
    "    # headers returned as binary\n",
    "    print(part.headers[b'content-type'])\n",
    "    \n",
    "    dcm = pydicom.dcmread(BytesIO(part.content))\n",
    "    print(dcm.PatientName)\n",
    "    print(dcm.SOPInstanceUID)\n",
    "    retrieved_dcm_files.append(dcm)"
   ]
  },
  {
   "cell_type": "markdown",
   "id": "9a2799ec-f766-42d2-af1e-a8104498f7f8",
   "metadata": {},
   "source": [
    "We retrieve a list of our uploaded files (the single instance we just uploaded)"
   ]
  },
  {
   "cell_type": "code",
   "execution_count": null,
   "id": "e1591891-38b3-4618-871f-744797db2cf4",
   "metadata": {
    "tags": []
   },
   "outputs": [],
   "source": [
    "retrieved_dcm_files[0].file_meta"
   ]
  },
  {
   "cell_type": "code",
   "execution_count": null,
   "id": "ea6b995f-dec8-4084-94ce-5beb65f541de",
   "metadata": {},
   "outputs": [],
   "source": [
    "assert retrieved_dcm_files[0].file_meta == ds.file_meta\n",
    "assert retrieved_dcm_files[0].pixel_array.all() == ds.pixel_array.all()"
   ]
  },
  {
   "cell_type": "code",
   "execution_count": null,
   "id": "9cb3cab2-d074-4b0d-9435-133bb0998d44",
   "metadata": {},
   "outputs": [],
   "source": [
    "plt.imshow(retrieved_dcm_files[0].pixel_array, cmap=plt.cm.bone)"
   ]
  },
  {
   "attachments": {},
   "cell_type": "markdown",
   "id": "5b1376e1",
   "metadata": {},
   "source": [
    "## Retrieve a single instance within a study"
   ]
  },
  {
   "cell_type": "code",
   "execution_count": null,
   "id": "c355edd9",
   "metadata": {},
   "outputs": [],
   "source": [
    "url = f'{base_url}/studies/{study_uid}/series/{series_uid}/instances/{instance_uid}'\n",
    "headers = {'Accept':'application/dicom; transfer-syntax=*', \"Authorization\":bearer_token}\n",
    "\n",
    "response = client.get(url, headers=headers)"
   ]
  },
  {
   "attachments": {},
   "cell_type": "markdown",
   "id": "51a6b39e",
   "metadata": {},
   "source": [
    "Again, the single instance is returned as bytes, which we can pass to pydicom with"
   ]
  },
  {
   "cell_type": "code",
   "execution_count": null,
   "id": "7eacb2c9",
   "metadata": {},
   "outputs": [],
   "source": [
    "dicom_file = pydicom.dcmread(BytesIO(response.content))\n",
    "print(dicom_file.PatientName)\n",
    "print(dicom_file.SOPInstanceUID)\n",
    "print(dicom_file.file_meta)"
   ]
  },
  {
   "cell_type": "code",
   "execution_count": null,
   "id": "9630d620",
   "metadata": {},
   "outputs": [],
   "source": [
    "plt.imshow(dicom_file.pixel_array, cmap=plt.cm.bone)"
   ]
  }
 ],
 "metadata": {
  "language_info": {
   "codemirror_mode": {
    "name": "ipython",
    "version": 3
   },
   "file_extension": ".py",
   "mimetype": "text/x-python",
   "name": "python",
   "nbconvert_exporter": "python",
   "pygments_lexer": "ipython3",
   "version": "3.9.13"
  },
  "vscode": {
   "interpreter": {
    "hash": "975ad6aaad2db9fc8babf17f1918754e70a3ed1a6f8c648d68805dca39c4e05f"
   }
  }
 },
 "nbformat": 4,
 "nbformat_minor": 5
}
