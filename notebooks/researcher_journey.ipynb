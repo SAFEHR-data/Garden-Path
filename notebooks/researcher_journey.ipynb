{
 "cells": [
  {
   "cell_type": "markdown",
   "id": "4934ae3d-ce2e-420f-bcf8-be349495d589",
   "metadata": {},
   "source": [
    "As a researcher, I want to\n",
    "\n",
    "-[X]  access (EHR, reports) data stored in the ADSL storage  \n",
    "-[ ] access DICOM data in the Azure DICOM service  \n",
    "-[ ] load DICOM images  \n",
    "-[ ] match radiology reports to images  \n",
    "-[ ] perform basic analysis (report completeness etc)  "
   ]
  },
  {
   "cell_type": "markdown",
   "id": "cf56abd6-64c9-4a45-b2b1-78fe6b473188",
   "metadata": {},
   "source": [
    "### Authenticate with Azure\n",
    "\n",
    "Open the link shown in a browser outside of the TRE, enter the code and log in with your user account"
   ]
  },
  {
   "cell_type": "code",
   "execution_count": null,
   "id": "648b35da-db3a-43bf-84b8-5f43ebb14c18",
   "metadata": {
    "tags": []
   },
   "outputs": [],
   "source": [
    "!az login --use-device-code"
   ]
  },
  {
   "cell_type": "markdown",
   "id": "e6259e19-8f0d-4b54-89f3-03d7f83c30ca",
   "metadata": {},
   "source": [
    "### Set some key variables - the storage account name, input data filesystem name and the directory containing files"
   ]
  },
  {
   "cell_type": "code",
   "execution_count": null,
   "id": "069ffce8-55ce-4998-83b9-da69dcb77ec8",
   "metadata": {},
   "outputs": [],
   "source": [
    "storage_account_name = \"stflowehrdev\"\n",
    "input_data_fs_name=\"data-lake-storage-flowehr-dev\"\n",
    "gold_zone_path=\"GoldZone/patients/\"\n"
   ]
  },
  {
   "cell_type": "markdown",
   "id": "1ba9cd42-1efa-404e-9ff7-b1074e93bb42",
   "metadata": {},
   "source": [
    "Import dependencies and define functions to query data"
   ]
  },
  {
   "cell_type": "code",
   "execution_count": null,
   "id": "de09765a-95f8-400b-acb6-dd8cace81831",
   "metadata": {},
   "outputs": [],
   "source": [
    "#Function definitions inspired by MS docs\n",
    "#at https://learn.microsoft.com/en-us/azure/storage/blobs/data-lake-storage-directory-file-acl-python\n",
    "import os, uuid, sys\n",
    "from azure.storage.filedatalake import DataLakeServiceClient\n",
    "from azure.core._match_conditions import MatchConditions\n",
    "from azure.storage.filedatalake._models import ContentSettings\n",
    "from azure.identity import DefaultAzureCredential, AzureCliCredential\n",
    "def initialize_storage_account_ad(storage_account_name):\n",
    "    try:  \n",
    "        global service_client\n",
    "        \n",
    "        credential = AzureCliCredential()\n",
    "        service_client = DataLakeServiceClient(account_url=f\"https://{storage_account_name}.dfs.core.windows.net\", credential=credential)\n",
    "    \n",
    "    except Exception as e:\n",
    "        print(e)\n",
    "def download_file_from_directory(storage_account, file_syst, directory, file_name):\n",
    "    try:\n",
    "        initialize_storage_account_ad(storage_account)\n",
    "        file_system_client = service_client.get_file_system_client(file_system=file_syst)\n",
    "        directory_client = file_system_client.get_directory_client(directory)\n",
    "        if not os.path.exists(\"downloaded_data\"):\n",
    "            os.makedirs(\"downloaded_data\")\n",
    "        print\n",
    "        local_file = open(f\"downloaded_data/{file_name}\",'wb')\n",
    "        file_client = directory_client.get_file_client(file_name)\n",
    "        download = file_client.download_file()\n",
    "        downloaded_bytes = download.readall()\n",
    "        local_file.write(downloaded_bytes)\n",
    "        local_file.close()\n",
    "\n",
    "    except Exception as e:\n",
    "     print(e)\n",
    "def list_directory_contents(storage_account, file_syst, directory):\n",
    "    try:\n",
    "        initialize_storage_account_ad(storage_account)\n",
    "        file_system_client = service_client.get_file_system_client(file_system=file_syst)\n",
    "\n",
    "        paths = file_system_client.get_paths(path=directory)\n",
    "        \n",
    "        path_list = []\n",
    "        for path in paths:\n",
    "            path_list.append(path.name)\n",
    "        return path_list\n",
    "\n",
    "    except Exception as e:\n",
    "     print(e)\n",
    "def create_directory(storage_account, file_syst, directory):\n",
    "    try:\n",
    "        initialize_storage_account_ad(storage_account)\n",
    "        file_system_client = service_client.get_file_system_client(file_system=file_syst)\n",
    "        file_system_client.create_directory(directory)\n",
    "    \n",
    "    except Exception as e:\n",
    "     print(e)\n",
    "def upload_file_to_directory(storage_account, file_syst, directory, uploaded_file_name, file_to_upload):\n",
    "    try:\n",
    "        initialize_storage_account_ad(storage_account)\n",
    "        file_system_client = service_client.get_file_system_client(file_system=file_syst)\n",
    "        directory_client = file_system_client.get_directory_client(directory)\n",
    "        file_client = directory_client.create_file(uploaded_file_name)\n",
    "        with open(file_to_upload, 'r') as local_file:\n",
    "            file_contents = local_file.read()\n",
    "            file_client.append_data(data=file_contents, offset=0, length=len(file_contents))\n",
    "            file_client.flush_data(len(file_contents))\n",
    "    except Exception as e:\n",
    "        print(e)\n",
    "            \n",
    "        "
   ]
  },
  {
   "cell_type": "markdown",
   "id": "694367b9-9ffd-4b0f-b782-73f60353a823",
   "metadata": {},
   "source": [
    "List the contents of the specified directory within the ADLS file system"
   ]
  },
  {
   "cell_type": "code",
   "execution_count": null,
   "id": "2bcb2ebc-b34e-46f9-a64e-f6449825854f",
   "metadata": {},
   "outputs": [],
   "source": [
    "available_files = list_directory_contents(storage_account_name, input_data_fs_name, gold_zone_path)"
   ]
  },
  {
   "cell_type": "code",
   "execution_count": null,
   "id": "d3efc0c3-36ae-43af-b6c7-c3f9685c9bd2",
   "metadata": {},
   "outputs": [],
   "source": [
    "available_files"
   ]
  },
  {
   "cell_type": "markdown",
   "id": "19022a5d-4b48-469d-a851-00cc83f6f7a2",
   "metadata": {},
   "source": [
    "Download all files found"
   ]
  },
  {
   "cell_type": "code",
   "execution_count": null,
   "id": "8ec51713-ee5e-4ead-a18c-87ae589dd7b9",
   "metadata": {},
   "outputs": [],
   "source": [
    "[download_file_from_directory(storage_account_name, input_data_fs_name, gold_zone_path, datafile.rsplit(\"/\",1)[-1]) for datafile in available_files]"
   ]
  },
  {
   "cell_type": "markdown",
   "id": "2affc0ad-a7ea-4170-87bc-8e44fd7cd714",
   "metadata": {},
   "source": [
    "Or individually"
   ]
  },
  {
   "cell_type": "code",
   "execution_count": null,
   "id": "74bde13f-6172-4078-ad93-d9afddedb8e3",
   "metadata": {},
   "outputs": [],
   "source": [
    "download_file_from_directory(storage_account_name, input_data_fs_name, gold_zone_path, available_files[0].rsplit(\"/\", 1)[-1])"
   ]
  },
  {
   "cell_type": "markdown",
   "id": "bcd31a91-527a-48ac-a88e-928f14042c97",
   "metadata": {},
   "source": [
    "### Reading downloaded files with pandas"
   ]
  },
  {
   "cell_type": "code",
   "execution_count": null,
   "id": "a7a97680-4f22-4986-843b-15dcd802ed46",
   "metadata": {},
   "outputs": [],
   "source": [
    "import pandas as pd\n",
    "local_df = pd.read_parquet(f\"downloaded_data/{available_files[0].rsplit('/',1)[-1]}\")\n",
    "local_df.head()"
   ]
  },
  {
   "cell_type": "markdown",
   "id": "24ae0657-508c-4ce3-954c-f5fd5661b00e",
   "metadata": {},
   "source": [
    "### Optional - Creating new directories within ADLS Gen2 storage\n",
    "Potentially not a path we want users going down - can be prevented with correct RBAC settings"
   ]
  },
  {
   "cell_type": "code",
   "execution_count": null,
   "id": "bc7b245b-1aab-4ab0-ab36-292be6b50c83",
   "metadata": {},
   "outputs": [],
   "source": [
    "create_directory(storage_account_name, input_data_fs_name, \"documentation-notebooks\")"
   ]
  },
  {
   "cell_type": "code",
   "execution_count": null,
   "id": "8c7be92c-c57c-4399-bbf4-87bd2042bbab",
   "metadata": {},
   "outputs": [],
   "source": [
    "upload_file_to_directory(storage_account_name, input_data_fs_name, \"documentation-notebooks\", \"researcher_journey.ipynb\", \"./researcher_journey.ipynb\")"
   ]
  },
  {
   "cell_type": "code",
   "execution_count": null,
   "id": "3ea8c5bc-e98c-44b7-bf3a-29d72cfa6366",
   "metadata": {},
   "outputs": [],
   "source": []
  }
 ],
 "metadata": {
  "kernelspec": {
   "display_name": "Python 3 (ipykernel)",
   "language": "python",
   "name": "python3"
  },
  "language_info": {
   "codemirror_mode": {
    "name": "ipython",
    "version": 3
   },
   "file_extension": ".py",
   "mimetype": "text/x-python",
   "name": "python",
   "nbconvert_exporter": "python",
   "pygments_lexer": "ipython3",
   "version": "3.9.13"
  }
 },
 "nbformat": 4,
 "nbformat_minor": 5
}
